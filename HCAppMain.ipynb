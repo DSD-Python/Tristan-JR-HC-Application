{
 "cells": [
  {
   "cell_type": "code",
   "execution_count": 8,
   "id": "7622ffbe-9f64-4399-966e-851be67ce841",
   "metadata": {},
   "outputs": [
    {
     "name": "stderr",
     "output_type": "stream",
     "text": [
      "2024-05-11 11:24:24.291 gpython[48207:7120466] WARNING: Secure coding is automatically enabled for restorable state! However, not on all supported macOS versions of this application. Opt-in to secure coding explicitly by implementing NSApplicationDelegate.applicationSupportsSecureRestorableState:.\n",
      "/Users/dev/Library/Gennaker/projects/Reading/DSD/.v/.venv/lib/python3.11/site-packages/sklearn/base.py:486: UserWarning: X has feature names, but StandardScaler was fitted without feature names\n",
      "  warnings.warn(\n"
     ]
    }
   ],
   "source": [
    "import joblib\n",
    "import tkinter as tk\n",
    "from tensorflow.keras.models import load_model\n",
    "import numpy as np\n",
    "import pandas as pd\n",
    "from sklearn.preprocessing import StandardScaler\n",
    "import pickle\n",
    "\n",
    "\n",
    "# Load the pre-trained model\n",
    "model = load_model('/Users/dev/Downloads/my_model.keras')\n",
    "\n",
    "# Load the scaler\n",
    "with open('/Users/dev/Library/Gennaker/projects/Reading/DSD/DSD_content/DSD_Qt_files/scaler.pkl', 'rb') as f:\n",
    "    scaler = pickle.load(f)\n",
    "  # This is a placeholder, replace with your actual scaler setup\n",
    "\n",
    "# GUI setup\n",
    "def predict():\n",
    "    try:\n",
    "        # Prepare user inputs\n",
    "        input_data = {\n",
    "            'Age': int(entries['Age'].get()),\n",
    "            'Sex': int(entries['Sex'].get()),\n",
    "            'BMI': float(entries['BMI'].get()),\n",
    "            'Smoker': int(entries['Smoker'].get()),\n",
    "            'Stroke': int(entries['Stroke'].get()),\n",
    "            'PhysActivity': int(entries['PhysActivity'].get()),\n",
    "            'Fruits': int(entries['Fruits'].get()),\n",
    "            'Veggies': int(entries['Veggies'].get()),\n",
    "            'HvyAlcoholConsump': int(entries['HvyAlcoholConsump'].get()),\n",
    "            'GenHlth': int(entries['GenHlth'].get()),\n",
    "            'MentHlth': int(entries['MentHlth'].get()),\n",
    "            'PhysHlth': int(entries['PhysHlth'].get()),\n",
    "            'DiffWalk': int(entries['DiffWalk'].get()),\n",
    "            'Education': int(entries['Education'].get()),\n",
    "            'Income': int(entries['Income'].get())\n",
    "        }\n",
    "        input_df = pd.DataFrame([input_data])\n",
    "        \n",
    "        # Scale features as per the training model\n",
    "        input_scaled = scaler.transform(input_df)\n",
    "\n",
    "        # Making prediction\n",
    "        prediction = model.predict(input_scaled)\n",
    "        label_result.config(text=f\"Prediction: {prediction[0]}\")\n",
    "    except Exception as e:\n",
    "        label_result.config(text=str(e))\n",
    "\n",
    "root = tk.Tk()\n",
    "root.title(\"Health Prediction App\")\n",
    "\n",
    "# Input fields\n",
    "fields = ['Age', 'Sex', 'BMI', 'Smoker', 'Stroke', 'PhysActivity', 'Fruits', 'Veggies', 'HvyAlcoholConsump', \n",
    "          'GenHlth', 'MentHlth', 'PhysHlth', 'DiffWalk', 'Education', 'Income']\n",
    "\n",
    "entries = {}\n",
    "for i, field in enumerate(fields):\n",
    "    tk.Label(root, text=f\"{field}:\").grid(row=i)\n",
    "    entry = tk.Entry(root)\n",
    "    entry.grid(row=i, column=1)\n",
    "    entries[field] = entry\n",
    "\n",
    "tk.Button(root, text=\"Predict\", command=predict).grid(row=len(fields), columnspan=2)\n",
    "label_result = tk.Label(root, text=\"Prediction will appear here\")\n",
    "label_result.grid(row=len(fields)+1, columnspan=2)\n",
    "\n",
    "root.mainloop()\n"
   ]
  }
 ],
 "metadata": {
  "kernelspec": {
   "display_name": "Python 3 (ipykernel)",
   "language": "python",
   "name": "python3"
  },
  "language_info": {
   "codemirror_mode": {
    "name": "ipython",
    "version": 3
   },
   "file_extension": ".py",
   "mimetype": "text/x-python",
   "name": "python",
   "nbconvert_exporter": "python",
   "pygments_lexer": "ipython3",
   "version": "3.11.7+"
  }
 },
 "nbformat": 4,
 "nbformat_minor": 5
}
