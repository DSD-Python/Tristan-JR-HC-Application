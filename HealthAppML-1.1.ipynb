import json

# Step 1: Collect user data
def collect_user_data():
    data = {}

    # Demographics   
    while True:
        try:
            age = int(input("Enter your age: "))
            if age < 0:
                raise ValueError("Age cannot be negative.")
            break
        except ValueError:
            print("Please enter a valid age as a number.")
        # Define age intervals and corresponding labels
    age_intervals = [
        (18, 24),(25, 29),(30, 34),(35, 39),
        (40, 44),(45, 49),(50, 54),(55, 59),
        (60, 64),(65, 69),(70, 74),(75, 79),
        (80, float('inf'))
    ]
        # Categorize age
    for i, (lower, upper) in enumerate(age_intervals, start=1):
        if lower <= age <= upper:
            data['Age'] = i
            break
    
    while True:
        sex = input("Enter your sex (Male/Female): ").strip().lower()
        if sex in ['male', 'female']:
            data['Sex'] = 1 if sex == 'male' else 0
            break
        else:
            print("Please enter 'Male' or 'Female'.")
    data['Sex'] = 1 if sex.lower() == 'male' else 0

    while True:
        try:
            data['Height'] = float(input("Enter your height (inches): "))
            break
        except ValueError:
            print("Invalid input. Please enter a number for height.")
            
    while True:
        try:
            data['Weight'] = float(input("Enter your weight (lbs): "))
            break
        except ValueError:
            print("Invalid input. Please enter a number for weight.")
            
    data['BMI'] = data['Weight'] / (2.205 * (data['Height'] / 39.37) ** 2)  # Correct BMI calculation

    print("Education levels:")
    print("  No schooling or only kindergarten  1")
    print("  Elementary school                  2")
    print("  Some high school                   3")
    print("  High school graduate               4")
    print("  Some college or technical school   5")
    print("  College graduate                   6")
    print("")
    while True:
        try:
            data['Education'] = int(input("Enter the number corresponding to your highest level of education (1-6): "))
            break
        except ValueError:
            print("Invalid input. Please enter a number.")

    print("Income ranges:")
    print("  Less than $10,000                  1")
    print("  $10,000 - $14,999                  2")
    print("  $15,000 - $19,999                  3")
    print("  $20,000 - $24,999                  4")
    print("  $25,000 - $34,999                  5")
    print("  $35,000 - $49,999                  6")
    print("  $50,000 - $74,999                  7")
    print("  $75,000 or more                    8")
    while True:
        try:
            data['Income'] = int(input("Enter the number corresponding to your household income (1-8): "))
            break
        except ValueError:
            print("Invalid input. Please enter a number.")

    # Health-related questions
    while True:
        Hc = input("Do you have any form of health insurance? (Yes/No): ").strip().lower()
        if Hc in ['yes', 'no']:
            data['AnyHealthcare'] = 1 if Hc == 'yes' else 0
            break
        else:
            print("Please enter 'Yes' or 'No'.")
    
    while True:
        DocCost = input("In the past year, have you wanted to visit a doctor but couldn't due to cost? (Yes/No): ").strip().lower()
        if DocCost in ['yes', 'no']:
            data['NoDocbcCost'] = 1 if DocCost == 'yes' else 0
            break
        else:
            print("Please enter 'Yes' or 'No'.")

    while True:
        Walk = input("Do you have difficulty walking? (Yes/No): ").strip().lower()
        if Walk in ['yes', 'no']:
            data['DiffWalk'] = 1 if Walk == 'yes' else 0
            break
        else:
            print("Please enter 'Yes' or 'No'.")

    while True:
        Phys = input("Other than you regular job, have you exercised or been physically active during the last 30 days? (Yes/No): ").strip().lower()
        if Phys in ['yes', 'no']:
            data['PhysActivity'] = 1 if Veg == 'yes' else 0
            break
        else:
            print("Please enter 'Yes' or 'No'.")
    
    while True:
        try:
            data['PhysHlth'] = int(input("Enter the number of days (within the past 30 days) that you have had bad physical health: "))
            break
        except ValueError:
                print("Invalid input. Please enter a number.")

    while True:
        try:
            data['MentHlth'] = int(input("Enter the number of days (within the past 30 days) that you have had bad mental health: "))
            break
        except ValueError:
            print("Invalid input. Please enter a number.")

    while True:
        try:
            data['GenHlth'] = int(input("Rate your general health from 1 (excellent) to 5 (poor): "))
            break
        except ValueError:
            print("Invalid input. Please enter a number.")

    while True:
        BP = input("Have you been told by a health professional that you have high blood pressure? (Yes/No): ").strip().lower()
        if BP in ['yes', 'no']:
            data['HighBP'] = 1 if BP == 'yes' else 0
            break
        else:
            print("Please enter 'Yes' or 'No'.")

    while True:
        Chol = input("Have you been told by a health professional that you have high blood cholesterol? (Yes/No): ").strip().lower()
        if Chol in ['yes', 'no']:
            data['HighChol'] = 1 if Chol == 'yes' else 0
            break
        else:
            print("Please enter 'Yes' or 'No'.")

    while True:
        CCheck = input("Have you had your blood cholesterol levels checked within the last five years? (Yes/No): ").strip().lower()
        if CCheck in ['yes', 'no']:
            data['CholCheck'] = 1 if CCheck == 'yes' else 0
            break
        else:
            print("Please enter 'Yes' or 'No'.")

    print("History of Diabetes:")
    print("  I have never been diabetic/I have only been diabetic during pregnancy    1")
    print("  I am pre-diabetic/I have borderline diabetes                             2")
    print("  I am diabetic                                                            3")
    while True:
        try:
            data['Diabetes'] = int(input("Enter the number corresponding to history of diabetes: "))
            break
        except ValueError:
            print("Invalid input. Please enter a number.")

    
    # Lifestyle information
    while True:
        Fru = input("Do you consume 1 or more fruit(s) per day? (Yes/No): ").strip().lower()
        if Fru in ['yes', 'no']:
            data['Fruits'] = 1 if Fru == 'yes' else 0
            break
        else:
            print("Please enter 'Yes' or 'No'.")

    while True:
        Veg = input("Do you consume 1 or more vegetable(s) per day? (Yes/No): ").strip().lower()
        if Veg in ['yes', 'no']:
            data['Veggies'] = 1 if Veg == 'yes' else 0
            break
        else:
            print("Please enter 'Yes' or 'No'.")

    if data['Sex'] == 0:
        while True:
            Alc = input("Do you have more than 7 drinks per week? (Yes/No): ").strip().lower()
            if Alc in ['yes', 'no']:
                data['HvyAlcoholConsump'] = 1 if Alc == 'yes' else 0
                break
            else:
                print("Please enter 'Yes' or 'No'.")
    else:
        while True:
            Alc = input("Do you have more than 14 drinks per week? (Yes/No): ").strip().lower()
            if Alc in ['yes', 'no']:
                data['HvyAlcoholConsump'] = 1 if Alc == 'yes' else 0
                break
            else:
                print("Please enter 'Yes' or 'No'.")

    while True:
        Stro = input("Have you had a stroke? (Yes/No): ").strip().lower()
        if Stro in ['yes', 'no']:
            data['Stroke'] = 1 if Stro == 'yes' else 0
            break
        else:
            print("Please enter 'Yes' or 'No'.")

    while True:
        Smok = input("Have you smoked at least 5 packs of cigarettes in your life? (Yes/No): ").strip().lower()
        if Smok in ['yes', 'no']:
            data['Smoker'] = 1 if Smok == 'yes' else 0
            break
        else:
            print("Please enter 'Yes' or 'No'.")

    return data

# Example usage
if __name__ == "__main__":
    user_data = collect_user_data()
    print("")
    print("User data collected:")
    print(json.dumps(user_data, indent=4))  # Print user data as JSON
